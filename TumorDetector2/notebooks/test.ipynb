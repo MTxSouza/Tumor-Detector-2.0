{
 "cells": [
  {
   "cell_type": "markdown",
   "metadata": {},
   "source": [
    "# **Test**\n",
    "This notebook is desired to test the pre-trained model with high-level testing informations.\n",
    "\n",
    "---"
   ]
  },
  {
   "cell_type": "markdown",
   "metadata": {},
   "source": [
    "### **Imports**"
   ]
  },
  {
   "cell_type": "code",
   "execution_count": null,
   "metadata": {},
   "outputs": [],
   "source": [
    "# metrics\n",
    "from TumorDetector2.utils.metrics import DiceCoeficient,\\\n",
    "                                         apply_threshold,\\\n",
    "                                         IoU\n",
    "from sklearn.metrics import precision_recall_fscore_support,\\\n",
    "                            ConfusionMatrixDisplay,\\\n",
    "                            confusion_matrix,\\\n",
    "                            accuracy_score\n",
    "\n",
    "# graphs\n",
    "import matplotlib.pyplot as plt\n",
    "\n",
    "# data handler\n",
    "from tensorflow.keras.models import model_from_json\n",
    "from TumorDetector2.utils.data import test_dataset\n",
    "\n",
    "import re\n",
    "\n",
    "# system\n",
    "from tensorflow._api.v2.config import list_physical_devices,\\\n",
    "                                      list_logical_devices,\\\n",
    "                                      set_visible_devices,\\\n",
    "                                      set_logical_device_configuration,\\\n",
    "                                      LogicalDeviceConfiguration\n",
    "from tqdm import tqdm\n",
    "\n",
    "import os"
   ]
  },
  {
   "cell_type": "markdown",
   "metadata": {},
   "source": [
    "##### **Checking GPU**"
   ]
  },
  {
   "cell_type": "code",
   "execution_count": null,
   "metadata": {},
   "outputs": [],
   "source": [
    "# checking if GPU is available\n",
    "gpus = list_physical_devices(device_type='GPU')\n",
    "if gpus.__len__():\n",
    "    set_visible_devices(devices=gpus[0], device_type='GPU')\n",
    "    # limiting GPU memory\n",
    "    set_logical_device_configuration(\n",
    "        device=gpus[0],\n",
    "        logical_devices=[\n",
    "            LogicalDeviceConfiguration(memory_limit=3584) # limiting to 3.5GB\n",
    "        ]\n",
    "    )\n",
    "    device = list_logical_devices(device_type='GPU')\n",
    "    print('GPU has been detected: ' + str(device))\n",
    "else:\n",
    "    print('No GPU has been detected. The GPU acceleration is not enabled, it is EXTREMELLY recommended to use GPU for training.')"
   ]
  },
  {
   "cell_type": "markdown",
   "metadata": {},
   "source": [
    "### **PARAMETERS**"
   ]
  },
  {
   "cell_type": "code",
   "execution_count": null,
   "metadata": {},
   "outputs": [],
   "source": [
    "MODEL_NAME = 'model_1'\n",
    "DATA_TEST = None\n",
    "THRESHOLD = 0.5"
   ]
  },
  {
   "cell_type": "markdown",
   "metadata": {},
   "source": [
    "### **Loading Pre-Trained Model**"
   ]
  },
  {
   "cell_type": "code",
   "execution_count": null,
   "metadata": {},
   "outputs": [],
   "source": [
    "ARCHITECTURE_FILTER = r'([A-Za-z0-9_]+.json)'\n",
    "MODEL_PATH = os.path.join('../weights', MODEL_NAME)\n",
    "WEIGHTS_PATH = os.path.join(MODEL_PATH, 'checkpoints.h5')\n",
    "\n",
    "# checking if model exist\n",
    "if os.path.exists(MODEL_PATH):\n",
    "    # reading parameters file\n",
    "    with open(os.path.join(MODEL_PATH, 'parameters.txt'), 'r') as parameters:\n",
    "        config = re.search(\n",
    "            ARCHITECTURE_FILTER,\n",
    "            parameters.read()\n",
    "        ).group(0)\n",
    "    config_path = os.path.join('../models', config)\n",
    "    # loading architecture\n",
    "    if os.path.exists(config_path):\n",
    "        with open(config_path, 'r') as architecture:\n",
    "            MODEL = model_from_json(architecture.read())\n",
    "        # loading weights\n",
    "        if os.path.exists(WEIGHTS_PATH):\n",
    "            MODEL.load_weights(filepath=WEIGHTS_PATH)\n",
    "        else:\n",
    "            raise FileExistsError(f'There is no weights for this model.')\n",
    "    else:\n",
    "        raise FileExistsError(f'There is no architecture called {config}.')\n",
    "else:\n",
    "    raise FileExistsError(f'There is no pre-trained model called {MODEL_NAME}.')"
   ]
  },
  {
   "cell_type": "markdown",
   "metadata": {},
   "source": [
    "### **Loading Test Data**"
   ]
  },
  {
   "cell_type": "code",
   "execution_count": null,
   "metadata": {},
   "outputs": [],
   "source": [
    "# loading data test\n",
    "if DATA_TEST is None:\n",
    "    TEST = test_dataset(False)"
   ]
  },
  {
   "cell_type": "markdown",
   "metadata": {},
   "source": [
    "### **Testing**"
   ]
  },
  {
   "cell_type": "markdown",
   "metadata": {},
   "source": [
    "##### **Running Inferences**"
   ]
  },
  {
   "cell_type": "code",
   "execution_count": null,
   "metadata": {},
   "outputs": [],
   "source": [
    "PREDICT_MASKS = []\n",
    "PREDICT_LABELS = []\n",
    "LABELS = []\n",
    "IMAGES = []\n",
    "MASKS = []\n",
    "\n",
    "if DATA_TEST is None:\n",
    "    for image, mask, label in tqdm(iterable=TEST, desc='Running inference in test dataset'):\n",
    "        \n",
    "        # predicting mask\n",
    "        predict = MODEL(image, training=False)\n",
    "        \n",
    "        # applying threshold\n",
    "        predict = apply_threshold(predict, THRESHOLD)[0][:,:,0].numpy()\n",
    "        \n",
    "        # saving images\n",
    "        IMAGES.append(image[0][:,:,0].numpy())\n",
    "        MASKS.append(mask[0][:,:,0].numpy())\n",
    "        LABELS.append(label.numpy()[0])\n",
    "        PREDICT_MASKS.append(predict)\n",
    "        \n",
    "        if predict.sum():\n",
    "            PREDICT_LABELS.append(1)\n",
    "        else:\n",
    "            PREDICT_LABELS.append(0)\n",
    "        \n",
    "    # calulating scores\n",
    "    ACCURACY = accuracy_score(LABELS, PREDICT_LABELS)\n",
    "    PRECISIONS, RECALLS, _, _ = precision_recall_fscore_support(LABELS, PREDICT_LABELS)\n",
    "    \n",
    "    cm = confusion_matrix(LABELS, PREDICT_LABELS)\n",
    "    cmd = ConfusionMatrixDisplay(confusion_matrix=cm)\n",
    "    \n",
    "    plt.title(f'Precision: {PRECISIONS} - Recall: {RECALLS} - Accuracy: {ACCURACY}')\n",
    "    cmd.plot()\n",
    "\n",
    "    # displaying predicted mask\n",
    "    fig, ax = plt.subplots(nrows=IMAGES.__len__(), ncols=3, figsize=(22,22))\n",
    "    \n",
    "    for index, txt in enumerate(['Tomography Image', 'Real Tumor Mask', f'Predicted Tumor Mask\\nThreshold: {THRESHOLD}']):\n",
    "        ax[0][index].set_title(txt, fontsize=12)\n",
    "    \n",
    "    for index, (image, mask, predict) in enumerate(zip(IMAGES, MASKS, PREDICT_MASKS)):\n",
    "        \n",
    "        # image\n",
    "        ax[index][0].imshow(image, cmap='gray')\n",
    "        \n",
    "        # mask\n",
    "        ax[index][1].imshow(image, cmap='gray')\n",
    "        ax[index][1].imshow(mask, cmap='gray', alpha=0.45)\n",
    "        \n",
    "        # predict\n",
    "        ax[index][2].imshow(image, cmap='gray')\n",
    "        ax[index][2].imshow(predict, cmap='gnuplot', alpha=0.45)\n",
    "        \n",
    "        for j in range(3):\n",
    "            ax[index][j].get_xaxis().set_visible(False)\n",
    "            ax[index][j].get_yaxis().set_visible(False)\n",
    "    \n",
    "    plt.show()"
   ]
  },
  {
   "cell_type": "code",
   "execution_count": null,
   "metadata": {},
   "outputs": [],
   "source": []
  }
 ],
 "metadata": {
  "kernelspec": {
   "display_name": "Python 3.9.13 ('tumor2')",
   "language": "python",
   "name": "python3"
  },
  "language_info": {
   "codemirror_mode": {
    "name": "ipython",
    "version": 3
   },
   "file_extension": ".py",
   "mimetype": "text/x-python",
   "name": "python",
   "nbconvert_exporter": "python",
   "pygments_lexer": "ipython3",
   "version": "3.9.13"
  },
  "orig_nbformat": 4,
  "vscode": {
   "interpreter": {
    "hash": "5fb4ddbd5bd26d54abc177a2197387a9ddd1bcf2be170865013db85e8b473b1e"
   }
  }
 },
 "nbformat": 4,
 "nbformat_minor": 2
}
